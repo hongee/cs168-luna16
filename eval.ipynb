{
 "cells": [
  {
   "cell_type": "code",
   "execution_count": 17,
   "metadata": {},
   "outputs": [],
   "source": [
    "# XGBoost\n",
    "import numpy as np\n",
    "from sklearn import svm\n",
    "from sklearn import linear_model\n",
    "from sklearn.metrics import roc_auc_score,confusion_matrix\n",
    "import xgboost"
   ]
  },
  {
   "cell_type": "code",
   "execution_count": 3,
   "metadata": {},
   "outputs": [
    {
     "name": "stderr",
     "output_type": "stream",
     "text": [
      "/Users/hongee/Envs/cs168_project/lib/python3.6/site-packages/h5py/__init__.py:36: FutureWarning: Conversion of the second argument of issubdtype from `float` to `np.floating` is deprecated. In future, it will be treated as `np.float64 == np.dtype(float).type`.\n",
      "  from ._conv import register_converters as _register_converters\n",
      "Using TensorFlow backend.\n"
     ]
    }
   ],
   "source": [
    "# Keras\n",
    "from keras.models import Sequential\n",
    "from keras.layers import Dense\n",
    "from keras.wrappers.scikit_learn import KerasClassifier"
   ]
  },
  {
   "cell_type": "code",
   "execution_count": 25,
   "metadata": {},
   "outputs": [],
   "source": [
    "data = np.load(\"./sample_data.npy\")\n",
    "data2 = np.load(\"./sample_data_2.npy\")"
   ]
  },
  {
   "cell_type": "code",
   "execution_count": 26,
   "metadata": {},
   "outputs": [
    {
     "data": {
      "text/plain": [
       "0.0021615525586203654"
      ]
     },
     "execution_count": 26,
     "metadata": {},
     "output_type": "execute_result"
    }
   ],
   "source": [
    "len(tuple(filter(lambda x: x[0] >= 1, data)))/data.shape[0]"
   ]
  },
  {
   "cell_type": "code",
   "execution_count": 27,
   "metadata": {},
   "outputs": [
    {
     "data": {
      "text/plain": [
       "0.0021478697205917752"
      ]
     },
     "execution_count": 27,
     "metadata": {},
     "output_type": "execute_result"
    }
   ],
   "source": [
    "len(tuple(filter(lambda x: x[0] >= 1, data2)))/data2.shape[0]"
   ]
  },
  {
   "cell_type": "code",
   "execution_count": 28,
   "metadata": {},
   "outputs": [],
   "source": [
    "train_X = data2[:,1:]\n",
    "train_y = data2[:,0]"
   ]
  },
  {
   "cell_type": "code",
   "execution_count": 29,
   "metadata": {},
   "outputs": [],
   "source": [
    "test_X = data[:,1:]\n",
    "test_y = data[:,0]"
   ]
  },
  {
   "cell_type": "code",
   "execution_count": 30,
   "metadata": {},
   "outputs": [
    {
     "name": "stdout",
     "output_type": "stream",
     "text": [
      "-- Epoch 1\n",
      "Norm: 5403.45, NNZs: 10000, Bias: -344.900051, T: 54007, Avg. loss: 53099.115324\n",
      "Total training time: 1.01 seconds.\n",
      "-- Epoch 2\n",
      "Norm: 3853.49, NNZs: 10000, Bias: -617.276625, T: 108014, Avg. loss: 6938.715621\n",
      "Total training time: 1.96 seconds.\n",
      "-- Epoch 3\n",
      "Norm: 3219.63, NNZs: 10000, Bias: -769.091659, T: 162021, Avg. loss: 4041.911664\n",
      "Total training time: 2.91 seconds.\n",
      "-- Epoch 4\n",
      "Norm: 2854.67, NNZs: 10000, Bias: -885.749643, T: 216028, Avg. loss: 3238.997732\n",
      "Total training time: 3.88 seconds.\n",
      "-- Epoch 5\n",
      "Norm: 2572.10, NNZs: 10000, Bias: -952.052645, T: 270035, Avg. loss: 1720.392943\n",
      "Total training time: 4.78 seconds.\n",
      "-- Epoch 6\n",
      "Norm: 2371.75, NNZs: 10000, Bias: -1010.934199, T: 324042, Avg. loss: 1479.295945\n",
      "Total training time: 5.69 seconds.\n",
      "-- Epoch 7\n",
      "Norm: 2195.13, NNZs: 10000, Bias: -1033.584063, T: 378049, Avg. loss: 695.062739\n",
      "Total training time: 6.53 seconds.\n",
      "-- Epoch 8\n",
      "Norm: 2039.36, NNZs: 10000, Bias: -1078.443639, T: 432056, Avg. loss: 988.385639\n",
      "Total training time: 7.47 seconds.\n",
      "-- Epoch 9\n",
      "Norm: 1897.76, NNZs: 10000, Bias: -1102.127213, T: 486063, Avg. loss: 484.100549\n",
      "Total training time: 8.32 seconds.\n",
      "-- Epoch 10\n",
      "Norm: 1801.47, NNZs: 10000, Bias: -1130.261152, T: 540070, Avg. loss: 601.448316\n",
      "Total training time: 9.20 seconds.\n",
      "-- Epoch 11\n",
      "Norm: 1740.00, NNZs: 10000, Bias: -1152.344069, T: 594077, Avg. loss: 599.624085\n",
      "Total training time: 10.08 seconds.\n",
      "-- Epoch 12\n",
      "Norm: 1684.26, NNZs: 10000, Bias: -1175.775570, T: 648084, Avg. loss: 594.391940\n",
      "Total training time: 10.95 seconds.\n",
      "-- Epoch 13\n",
      "Norm: 1620.61, NNZs: 10000, Bias: -1186.724447, T: 702091, Avg. loss: 374.568285\n",
      "Total training time: 11.79 seconds.\n",
      "-- Epoch 14\n",
      "Norm: 1563.79, NNZs: 10000, Bias: -1196.354070, T: 756098, Avg. loss: 328.569802\n",
      "Total training time: 12.64 seconds.\n",
      "-- Epoch 15\n",
      "Norm: 1501.62, NNZs: 10000, Bias: -1204.457450, T: 810105, Avg. loss: 321.761578\n",
      "Total training time: 13.47 seconds.\n",
      "-- Epoch 16\n",
      "Norm: 1443.49, NNZs: 10000, Bias: -1214.964350, T: 864112, Avg. loss: 275.279678\n",
      "Total training time: 14.28 seconds.\n",
      "-- Epoch 17\n",
      "Norm: 1389.58, NNZs: 10000, Bias: -1221.932522, T: 918119, Avg. loss: 205.427934\n",
      "Total training time: 15.10 seconds.\n",
      "-- Epoch 18\n",
      "Norm: 1347.75, NNZs: 10000, Bias: -1234.572587, T: 972126, Avg. loss: 245.513573\n",
      "Total training time: 15.93 seconds.\n",
      "-- Epoch 19\n",
      "Norm: 1316.09, NNZs: 10000, Bias: -1237.716133, T: 1026133, Avg. loss: 196.232911\n",
      "Total training time: 16.74 seconds.\n",
      "-- Epoch 20\n",
      "Norm: 1289.30, NNZs: 10000, Bias: -1244.166476, T: 1080140, Avg. loss: 208.568019\n",
      "Total training time: 17.56 seconds.\n"
     ]
    },
    {
     "data": {
      "text/plain": [
       "SGDClassifier(alpha=0.0001, average=False, class_weight='balanced',\n",
       "       epsilon=0.1, eta0=0.0, fit_intercept=True, l1_ratio=0.15,\n",
       "       learning_rate='optimal', loss='hinge', max_iter=20, n_iter=None,\n",
       "       n_jobs=1, penalty='l2', power_t=0.5, random_state=None,\n",
       "       shuffle=True, tol=None, verbose=1, warm_start=False)"
      ]
     },
     "execution_count": 30,
     "metadata": {},
     "output_type": "execute_result"
    }
   ],
   "source": [
    "#classifier = xgboost.XGBClassifier(scale_pos_weight=99, verbose=True)\n",
    "#classifier = svm.LinearSVC(dual=False, C=1)\n",
    "classifier = linear_model.SGDClassifier(class_weight=\"balanced\", verbose=1, max_iter=20)\n",
    "classifier.fit(train_X, train_y)"
   ]
  },
  {
   "cell_type": "code",
   "execution_count": 31,
   "metadata": {},
   "outputs": [],
   "source": [
    "score_y = classifier.decision_function(test_X)\n",
    "pred_y = classifier.predict(test_X)"
   ]
  },
  {
   "cell_type": "code",
   "execution_count": 32,
   "metadata": {},
   "outputs": [
    {
     "data": {
      "text/plain": [
       "0.9199844391437434"
      ]
     },
     "execution_count": 32,
     "metadata": {},
     "output_type": "execute_result"
    }
   ],
   "source": [
    "roc_auc_score(test_y,score_y)"
   ]
  },
  {
   "cell_type": "markdown",
   "metadata": {},
   "source": [
    "Confusion Matrix:\n",
    "```\n",
    "TP | FP\n",
    "-------\n",
    "FN | TN\n",
    "```"
   ]
  },
  {
   "cell_type": "code",
   "execution_count": 33,
   "metadata": {},
   "outputs": [
    {
     "data": {
      "text/plain": [
       "array([[19397,  1838],\n",
       "       [   12,    34]])"
      ]
     },
     "execution_count": 33,
     "metadata": {},
     "output_type": "execute_result"
    }
   ],
   "source": [
    "confusion_matrix(test_y, pred_y)"
   ]
  },
  {
   "cell_type": "code",
   "execution_count": null,
   "metadata": {},
   "outputs": [],
   "source": []
  }
 ],
 "metadata": {
  "kernelspec": {
   "display_name": "Python 3",
   "language": "python",
   "name": "python3"
  },
  "language_info": {
   "codemirror_mode": {
    "name": "ipython",
    "version": 3
   },
   "file_extension": ".py",
   "mimetype": "text/x-python",
   "name": "python",
   "nbconvert_exporter": "python",
   "pygments_lexer": "ipython3",
   "version": "3.6.5"
  }
 },
 "nbformat": 4,
 "nbformat_minor": 2
}
